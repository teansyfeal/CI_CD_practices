{
 "cells": [
  {
   "cell_type": "code",
   "execution_count": 2,
   "metadata": {},
   "outputs": [],
   "source": [
    "import pandas as pd\n",
    "df = pd.read_csv (\"USA_Housing.csv\", header = 0)"
   ]
  },
  {
   "cell_type": "code",
   "execution_count": null,
   "metadata": {},
   "outputs": [],
   "source": [
    "#check column name\n",
    "print (df.columns)\n",
    "#check index\n",
    "print (df.head())"
   ]
  },
  {
   "cell_type": "code",
   "execution_count": null,
   "metadata": {},
   "outputs": [],
   "source": [
    "df.set_index ('Address', inplace = True)\n",
    "print (df.head())"
   ]
  },
  {
   "cell_type": "code",
   "execution_count": null,
   "metadata": {},
   "outputs": [],
   "source": [
    "x = df.drop ('Price', axis=1)\n",
    "print (x.head())\n",
    "print (x.shape)\n",
    "\n",
    "y = df['Price']\n",
    "print (y.head(10))\n",
    "print (y.shape)"
   ]
  },
  {
   "cell_type": "code",
   "execution_count": null,
   "metadata": {},
   "outputs": [],
   "source": [
    "from sklearn.model_selection import train_test_split\n",
    "X_train, X_test, y_train, y_test = train_test_split (x, y, test_size=0.2, random_state=42)\n",
    "print (\"X_train:\", X_train.shape)\n",
    "print (\"X_test:\", X_test.shape)\n",
    "print (\"y_train:\", y_train.shape)\n",
    "print (\"y_test:\", y_test.shape)"
   ]
  }
 ],
 "metadata": {
  "interpreter": {
   "hash": "e30b4d27ed2e2f541f9463d13d796e5dbf39687f7d577806ac0a33701d978420"
  },
  "kernelspec": {
   "display_name": "Python 3.9.7 ('base')",
   "language": "python",
   "name": "python3"
  },
  "language_info": {
   "codemirror_mode": {
    "name": "ipython",
    "version": 3
   },
   "file_extension": ".py",
   "mimetype": "text/x-python",
   "name": "python",
   "nbconvert_exporter": "python",
   "pygments_lexer": "ipython3",
   "version": "3.9.7"
  },
  "orig_nbformat": 4
 },
 "nbformat": 4,
 "nbformat_minor": 2
}
